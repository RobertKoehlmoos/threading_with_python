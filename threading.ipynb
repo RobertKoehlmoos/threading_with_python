{
 "cells": [
  {
   "cell_type": "markdown",
   "id": "fixed-metropolitan",
   "metadata": {},
   "source": [
    "# Working with Threads in Python"
   ]
  },
  {
   "cell_type": "markdown",
   "id": "early-juice",
   "metadata": {},
   "source": [
    "## What is a Thread?"
   ]
  },
  {
   "cell_type": "markdown",
   "id": "chief-morgan",
   "metadata": {},
   "source": [
    "In computing, a process is an instance of a computer program that is being executed. Any process has 3 basic components:  \n",
    "\n",
    "- An executable program.  \n",
    "- The associated data needed by the program (variables, work space, buffers, etc.)  \n",
    "- The execution context of the program (State of process)  \n",
    "A thread is an entity within a process that can be scheduled for execution. Also, it is the smallest unit of processing that can be performed in an OS (Operating System).  \n",
    "\n",
    "In simple words, a thread is a sequence of such instructions within a program that can be executed independently of other code. For simplicity, you can assume that a thread is simply a subset of a process!  \n",
    "\n",
    "Multithreading is defined as the ability of a processor to execute multiple threads concurrently.  \n",
    "\n",
    "In a simple, single-core CPU, it is achieved using frequent switching between threads. This is termed as context switching. In context switching, the state of a thread is saved and state of another thread is loaded whenever any interrupt (due to I/O or manually set) takes place. Context switching takes place so frequently that all the threads appear to be running parallely (this is termed as multitasking).  "
   ]
  },
  {
   "cell_type": "markdown",
   "id": "excess-footwear",
   "metadata": {},
   "source": [
    "Below is a simple program demonstrating how to setup and run threads. It runs two threadseach with their own function."
   ]
  },
  {
   "cell_type": "code",
   "execution_count": null,
   "id": "confirmed-tsunami",
   "metadata": {},
   "outputs": [],
   "source": [
    "# Python program to illustrate the concept\n",
    "# of threading\n",
    "# importing the threading module\n",
    "import threading\n",
    "  \n",
    "def print_cube(num):\n",
    "    \"\"\"\n",
    "    function to print cube of given num\n",
    "    \"\"\"\n",
    "    print(f\"Cube: {num**3}\")\n",
    "\n",
    "def print_square(num):\n",
    "    \"\"\"\n",
    "    function to print square of given num\n",
    "    \"\"\"\n",
    "    print(f\"Square: {num**2}\")\n",
    "\n",
    "# creating thread\n",
    "t1 = threading.Thread(target=print_square, args=(10,))\n",
    "t2 = threading.Thread(target=print_cube, args=(10,))\n",
    "\n",
    "# starting thread 1\n",
    "t1.start()\n",
    "# starting thread 2\n",
    "t2.start()\n",
    "\n",
    "# wait until thread 1 is completely executed\n",
    "t1.join()\n",
    "# wait until thread 2 is completely executed\n",
    "t2.join()\n",
    "\n",
    "# both threads completely executed\n",
    "print(\"Done!\")"
   ]
  },
  {
   "cell_type": "markdown",
   "id": "dangerous-solid",
   "metadata": {},
   "source": [
    "### Creating a Thread\n",
    "\n",
    "The line:  \n",
    "`t1 = threading.Thread(target=print_square, args=(10,))`  \n",
    "Demonstrates the normal way to create a thread object to be run in the future. The `target` argument will be a function to be called when the thread is started. The `args` argumetn is a tuple of the arguments to be supplied to the function. Another argument, `kwargs` can be supplied if you want to provide key-word arguments to the thread function.  \n",
    "\n",
    "The `start` method can then be run on the thread object. This calls the function with the provided arguments as it's own separate thread.  \n",
    "\n",
    "The `join` method can be used if waiting for the completion of the thread is required. Call the method at any point and execution of the thread calling the join method (in this case the main execution thread) will wait for the join-ed thread to complete before continuining.  "
   ]
  },
  {
   "cell_type": "markdown",
   "id": "congressional-composite",
   "metadata": {},
   "source": [
    "## Exercises: Basics of Threading"
   ]
  },
  {
   "cell_type": "markdown",
   "id": "silver-democrat",
   "metadata": {},
   "source": [
    "1. Create a function that prints each number from 1 to 20 in a for loop. Create two threads that run this function and start them one immeditely after the other. Join to wait for each one to finish before your program ends. "
   ]
  },
  {
   "cell_type": "code",
   "execution_count": null,
   "id": "built-miracle",
   "metadata": {},
   "outputs": [],
   "source": []
  },
  {
   "cell_type": "markdown",
   "id": "adapted-vocabulary",
   "metadata": {},
   "source": [
    "2. Edit your previous function so it takes a number between 1 and n, where n is an argument provided to the funciton. Create two threads and run them, this time having one thread print numbers up to 50 and the other print numbers up to 70. "
   ]
  },
  {
   "cell_type": "code",
   "execution_count": null,
   "id": "native-thinking",
   "metadata": {},
   "outputs": [],
   "source": []
  },
  {
   "cell_type": "markdown",
   "id": "binary-malpractice",
   "metadata": {},
   "source": [
    "3. Create a global list. Write one function that appends a list of strings given to it as an argument to the global list. Write a second function that prints off each element in the global list one at a time. Finally, run the first funciton as a thread with five random words, and then run the second function as a thread, making sure that the previous thread has completed to allow it to print off all those strings."
   ]
  },
  {
   "cell_type": "code",
   "execution_count": null,
   "id": "handed-behavior",
   "metadata": {},
   "outputs": [],
   "source": []
  },
  {
   "cell_type": "markdown",
   "id": "sexual-endorsement",
   "metadata": {},
   "source": [
    "4. Redo question 1, but this time run 5 at once, using a for loop or a data structure to manage them all."
   ]
  },
  {
   "cell_type": "code",
   "execution_count": null,
   "id": "soviet-shark",
   "metadata": {},
   "outputs": [],
   "source": []
  },
  {
   "cell_type": "markdown",
   "id": "chicken-evans",
   "metadata": {
    "scrolled": true
   },
   "source": [
    "### Race Conditions"
   ]
  },
  {
   "cell_type": "markdown",
   "id": "attractive-state",
   "metadata": {},
   "source": [
    "You may have noticed that in problem 1 above the print statements were intermingled between the two threads. While this isn't a big deal here, imagine if there were two threads accessing a bank account and adjusting it's values instead. This could lead to serious problems if they both try to add money at the same time. This sort of problem, where the timing of two threads can affect what should be a consistent result, is called a 'Race Condition'.\n",
    "\n",
    "Concurrent accesses to shared resource can lead to race condition.\n",
    "\n",
    "A race condition occurs when two or more threads can access shared data and they try to change it at the same time. As a result, the values of variables may be unpredictable and vary depending on the timings of context switches of the processes.\n",
    "\n",
    "Consider the program below to understand the concept of race condition: (Jupyter notebooks seems to try to not switch threads too much, you might need ot run it a few times before you see the problem)"
   ]
  },
  {
   "cell_type": "code",
   "execution_count": null,
   "id": "pressing-customer",
   "metadata": {},
   "outputs": [],
   "source": [
    "import threading\n",
    "  \n",
    "# global variable x\n",
    "x = 0\n",
    "  \n",
    "def increment():\n",
    "    \"\"\"\n",
    "    function to increment global variable x\n",
    "    \"\"\"\n",
    "    global x\n",
    "    x += 1\n",
    "\n",
    "def thread_task():\n",
    "    \"\"\"\n",
    "    task for thread\n",
    "    calls increment function 100000 times.\n",
    "    \"\"\"\n",
    "    for _ in range(100000):\n",
    "        increment()\n",
    "\n",
    "def main_task():\n",
    "    global x\n",
    "    # setting global variable x as 0\n",
    "    x = 0\n",
    "  \n",
    "    # creating threads\n",
    "    t1 = threading.Thread(target=thread_task)\n",
    "    t2 = threading.Thread(target=thread_task)\n",
    "  \n",
    "    # start threads\n",
    "    t1.start()\n",
    "    t2.start()\n",
    "  \n",
    "    # wait until threads finish their job\n",
    "    t1.join()\n",
    "    t2.join()\n",
    "\n",
    "if __name__ == \"__main__\":\n",
    "    for i in range(10):\n",
    "        main_task()\n",
    "        print(f\"Iteration {i}: x = {x}\")"
   ]
  },
  {
   "cell_type": "markdown",
   "id": "adverse-factor",
   "metadata": {},
   "source": [
    "In above program:  \n",
    "\n",
    "Two threads t1 and t2 are created in main_task function and global variable x is set to 0.  \n",
    "Each thread has a target function thread_task in which increment function is called 100000 times.  \n",
    "increment function will increment the global variable x by 1 in each call.  \n",
    "The expected final value of x is 200000 but what we get in 10 iterations of main_task function is some different values.  \n",
    "\n",
    "This happens due to concurrent access of threads to the shared variable x. This unpredictability in value of x is a race condition.  "
   ]
  },
  {
   "cell_type": "markdown",
   "id": "wooden-evidence",
   "metadata": {},
   "source": [
    "## Solving Race Conditions Using Locks \n",
    "\n",
    "The threading module provides a Lock class to deal with the race conditions.\n",
    "\n",
    "Lock class provides following methods:\n",
    "\n",
    "`acquire([blocking])` : To acquire a lock. A lock can be blocking or non-blocking.  \n",
    "\n",
    "When invoked with the blocking argument set to `True` (the default), thread execution is blocked until the lock is unlocked, then lock is set to locked and return `True`.  \n",
    "When invoked with the blocking argument set to `False`, thread execution is not blocked. If lock is unlocked, then set it to locked and return `True` else return `False` immediately.  \n",
    "\n",
    "`release()` : To release a lock.\n",
    "When the lock is locked, reset it to unlocked, and return. If any other threads are blocked waiting for the lock to become unlocked, allow exactly one of them to proceed.  \n",
    "If lock is already unlocked, a `ThreadError` is raised.  \n",
    "\n",
    "The code below demonstrates the use of locks:  "
   ]
  },
  {
   "cell_type": "code",
   "execution_count": null,
   "id": "direct-candy",
   "metadata": {},
   "outputs": [],
   "source": [
    "import threading\n",
    "  \n",
    "# global variable x\n",
    "x = 0\n",
    "\n",
    "def increment():\n",
    "    \"\"\"\n",
    "    function to increment global variable x\n",
    "    \"\"\"\n",
    "    global x\n",
    "    x += 1\n",
    "\n",
    "def thread_task(lock):\n",
    "    \"\"\"\n",
    "    task for thread\n",
    "    calls increment function 100000 times.\n",
    "    \"\"\"\n",
    "    for _ in range(100000):\n",
    "        lock.acquire()\n",
    "        increment()\n",
    "        lock.release()\n",
    "\n",
    "def main_task():\n",
    "    global x\n",
    "    # setting global variable x as 0\n",
    "    x = 0\n",
    "  \n",
    "    # creating a lock\n",
    "    lock = threading.Lock()\n",
    "  \n",
    "    # creating threads\n",
    "    t1 = threading.Thread(target=thread_task, args=(lock,))\n",
    "    t2 = threading.Thread(target=thread_task, args=(lock,))\n",
    "  \n",
    "    # start threads\n",
    "    t1.start()\n",
    "    t2.start()\n",
    "    \n",
    "    # wait until threads finish their job\n",
    "    t1.join()\n",
    "    t2.join()\n",
    "\n",
    "for i in range(10):\n",
    "    main_task()\n",
    "    print(\"Iteration {0}: x = {1}\".format(i,x))"
   ]
  },
  {
   "cell_type": "markdown",
   "id": "proved-robert",
   "metadata": {},
   "source": [
    "Let's walk through the above code step by step:  \n",
    "\n",
    "Firstly, a Lock object is created using:  \n",
    "  `lock = threading.Lock()`\n",
    "Then, lock is passed as target function argument:  \n",
    "  `t1 = threading.Thread(target=thread_task, args=(lock,))`  \n",
    "  `t2 = threading.Thread(target=thread_task, args=(lock,))`  \n",
    "In the critical section of target function, we apply lock using `lock.acquire()` method. As soon as a lock is acquired, no other thread can access the critical section (here, increment function) until the lock is released using `lock.release()` method.  \n",
    "  `lock.acquire()`  \n",
    "  `increment()`  \n",
    "  `lock.release()`  \n",
    "As you can see in the results, the final value of x comes out to be 200000 every time (which is the expected final result).  "
   ]
  },
  {
   "cell_type": "markdown",
   "id": "allied-suspect",
   "metadata": {},
   "source": [
    "## Exercise: Working with Locks"
   ]
  },
  {
   "cell_type": "markdown",
   "id": "regular-great",
   "metadata": {},
   "source": [
    "1.  Reuse the code you wrote from the previous exercise's question 1, but this time implement locks to ensure each thread prints out all of it's numbers before the other can start."
   ]
  },
  {
   "cell_type": "code",
   "execution_count": null,
   "id": "velvet-montgomery",
   "metadata": {},
   "outputs": [],
   "source": []
  },
  {
   "cell_type": "markdown",
   "id": "economic-october",
   "metadata": {},
   "source": [
    "2. Create a global list with the number 0. Then create a function that checks the last value in that list, adds one to it, and appends that value to the global list so the list becomes [0, 1, 2, 3, ...]. Have the function do this 50 times. Create two threads and run them at the same time, using locks to ensure that the numbers stay in sequence."
   ]
  },
  {
   "cell_type": "code",
   "execution_count": null,
   "id": "brutal-working",
   "metadata": {},
   "outputs": [],
   "source": []
  }
 ],
 "metadata": {
  "kernelspec": {
   "display_name": "Python 3",
   "language": "python",
   "name": "python3"
  },
  "language_info": {
   "codemirror_mode": {
    "name": "ipython",
    "version": 3
   },
   "file_extension": ".py",
   "mimetype": "text/x-python",
   "name": "python",
   "nbconvert_exporter": "python",
   "pygments_lexer": "ipython3",
   "version": "3.7.9"
  }
 },
 "nbformat": 4,
 "nbformat_minor": 5
}
