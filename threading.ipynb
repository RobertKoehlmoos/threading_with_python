{
 "cells": [
  {
   "cell_type": "markdown",
   "id": "limited-interim",
   "metadata": {},
   "source": [
    "# Working with Sockets in Python"
   ]
  },
  {
   "cell_type": "markdown",
   "id": "hairy-briefs",
   "metadata": {},
   "source": [
    "## What is an Socket?"
   ]
  },
  {
   "cell_type": "markdown",
   "id": "speaking-symbol",
   "metadata": {},
   "source": [
    "Socket programming is a way of connecting two nodes on a network to communicate with each other. One socket(node) listens on a particular port at an IP, while the other socket reaches out to the other to form a connection. The server forms the listener socket while the client reaches out to the server. \n",
    "\n",
    "In Python, you'll be creating local `socket` objects from the `socket` module that serve as proxies for interacting with the operation system and the sockets it creates.\n",
    "\n",
    "The below code snippet shows the basics of creating a local socket."
   ]
  },
  {
   "cell_type": "code",
   "execution_count": null,
   "id": "corrected-basics",
   "metadata": {},
   "outputs": [],
   "source": [
    "import socket\n",
    "s = socket.socket(socket.AF_INET, socket.SOCK_STREAM)\n",
    "print(type(s))\n",
    "print(s)"
   ]
  },
  {
   "cell_type": "markdown",
   "id": "domestic-leadership",
   "metadata": {},
   "source": [
    "### Troubleshooting\n",
    "\n",
    "Throughout this workbook you may find that there are problems with sockets being taken up or your code leaving sockets running. One place to start if you can't figure out how to fix things is to restart the Jupyter Notebook Kernel. If you're using the web interface, you will find that option in the drop down menu under 'Kernel' at the top of the page."
   ]
  },
  {
   "cell_type": "markdown",
   "id": "alone-absorption",
   "metadata": {},
   "source": [
    "### Netcat Setup\n",
    "\n",
    "For this workbook you will need to set up connections outside of your computer, I strongly recommend using netcat for this. Most linux flavors will come with netcat as a command line binary. For Windows, you can download it from [this page](https://nmap.org/download.html). It will be one of the files inside the zipped folder, you can then run it using the Windows command line.\n",
    "\n",
    "If you just want a connection you can type into and receive things from use:\n",
    "`nc 127.0.0.1 6789`\n",
    "Or for receiving connections:\n",
    "`nc -l 7654`\n",
    "\n",
    "If you need to push something to a connection, you can use the following syntax:  \n",
    "`\"hello world\" | nc localhost 12345`  \n",
    "If you need to listen for an incomming connection on a specific port and serve text to it, you can use the `-l` flag:  \n",
    "`\"hello world\" | nc -l 12345`  \n",
    "\n",
    "You will definitely need to play around with the tool a little more if this is your first time using it. Don't hesitate to search for answers or ask for help!"
   ]
  },
  {
   "cell_type": "markdown",
   "id": "heated-clearing",
   "metadata": {
    "scrolled": true
   },
   "source": [
    "### Connecting a Socket"
   ]
  },
  {
   "cell_type": "markdown",
   "id": "angry-burton",
   "metadata": {},
   "source": [
    "We'll start by working through creating a client socket and sending data.\n",
    "\n",
    "You'll need to use the `connect`, `sendall`, and `recv` methods.\n",
    "\n",
    "Note: Sockets use the `Bytes` data structure instead of `String`s. They look similar in code, bytes are differentiated from strings by having a `b` character before the initial double or single quotation marks. Bytes store exactly represent the bytes the are stored as on the local machine, which makes them preferable for sending data over a network. For the purposes of this class that shouldn't be too much of an issue, but that's why you'll see lots of `b`s floating around in the code and output."
   ]
  },
  {
   "cell_type": "markdown",
   "id": "bizarre-rally",
   "metadata": {},
   "source": [
    "First, set up a local listening conneciton using netcat at the port address 65432 sending data:  \n",
    "`\"Hello right back\" | netcat -l 65432`\n",
    "\n",
    "Then run the below code block. You should see the string sent by netcat printed here, and on the command line you should see the string you send from this notebook!"
   ]
  },
  {
   "cell_type": "code",
   "execution_count": null,
   "id": "retained-demand",
   "metadata": {},
   "outputs": [],
   "source": [
    "import socket\n",
    "\n",
    "HOST = '127.0.0.1'  # The server's hostname or IP address\n",
    "PORT = 65432        # The port used by the server\n",
    "\n",
    "with socket.socket(socket.AF_INET, socket.SOCK_STREAM) as s:\n",
    "    s.connect((HOST, PORT))\n",
    "    s.sendall(b'Hello, world')\n",
    "    data = s.recv(1024)\n",
    "\n",
    "print('Received', repr(data))"
   ]
  },
  {
   "cell_type": "markdown",
   "id": "shared-teddy",
   "metadata": {},
   "source": [
    "## Exercise: Connecting to your computer"
   ]
  },
  {
   "cell_type": "markdown",
   "id": "racial-private",
   "metadata": {},
   "source": [
    "1. Connect to port 5555 locally, send the message \"How do you do?\" and receive back and print the message \"I'm good, what about you?\""
   ]
  },
  {
   "cell_type": "code",
   "execution_count": null,
   "id": "joint-quick",
   "metadata": {},
   "outputs": [],
   "source": []
  },
  {
   "cell_type": "markdown",
   "id": "violent-victor",
   "metadata": {},
   "source": [
    "2. Connect to port 5678, send the message \"1\", receive the message \"2\", then send the message \"3\", and receive the message \"4\"\n",
    "\n",
    "Hint: You'll probably need switch over to your netcat listener to send the messages back and forth. It might help to include newlines at the end of the messages you send."
   ]
  },
  {
   "cell_type": "code",
   "execution_count": null,
   "id": "greatest-manner",
   "metadata": {},
   "outputs": [],
   "source": []
  },
  {
   "cell_type": "markdown",
   "id": "regulation-aurora",
   "metadata": {},
   "source": [
    "3. Connect to port 9876, receive the message \"1\", send the message \"2\", then receive the message \"3\", and send the message \"4\""
   ]
  },
  {
   "cell_type": "code",
   "execution_count": null,
   "id": "separated-lighting",
   "metadata": {},
   "outputs": [],
   "source": []
  },
  {
   "cell_type": "markdown",
   "id": "chemical-review",
   "metadata": {},
   "source": [
    "4. Connect to port 8765, receive a message, and then send back the message you received twice with the string \"doubled:\" before it. So if you received 'hello', send back 'doubled:hellohello'"
   ]
  },
  {
   "cell_type": "code",
   "execution_count": null,
   "id": "african-catalyst",
   "metadata": {},
   "outputs": [],
   "source": []
  },
  {
   "cell_type": "markdown",
   "id": "southwest-friendly",
   "metadata": {},
   "source": [
    "5. Connect to a website of your choice and send them the string `GET / HTTP/1.0\\n\\n`. You should get an HTTP response back."
   ]
  },
  {
   "cell_type": "code",
   "execution_count": null,
   "id": "recent-mouth",
   "metadata": {},
   "outputs": [],
   "source": []
  },
  {
   "cell_type": "markdown",
   "id": "colored-noise",
   "metadata": {},
   "source": [
    "## Listening on a socket\n",
    "\n",
    "Sometimes you don't want to go out and get a conneciton. Sometimes you want someone else to connect to you first. That's what listening sockets are for.\n",
    "\n",
    "For listening, you'll use the `bind`, `listen`, and `accept` methods for a socket. `bind` takes a tuple of an ip address and port. The port is where it listens. The ip address is a bit  more complex. For this course we'll mostly be binding using a local host address `127.0.0.1`, but if your operating system is using multiple addresses you specificy which one you want. An empty string and `0.0.0.0` both indicate to bind to all addresses.\n",
    "\n",
    "After listen is called, you can call `accept` to accept an incoming connection. This returns a tuple of the connection (which is a new sockets that can be used the same as your connection socket from before) and another tuple of the ip address and port that connected to your listening port.\n",
    "\n",
    "The below code snippet runs an echo server. Connect to it using netcat and send some messages."
   ]
  },
  {
   "cell_type": "code",
   "execution_count": null,
   "id": "mobile-stroke",
   "metadata": {},
   "outputs": [],
   "source": [
    "import socket\n",
    "\n",
    "HOST = '127.0.0.1'  # Standard loopback interface address (localhost)\n",
    "PORT = 34567        # Port to listen on (non-privileged ports are > 1023)\n",
    "\n",
    "with socket.socket(socket.AF_INET, socket.SOCK_STREAM) as s:\n",
    "    s.bind((HOST, PORT))\n",
    "    s.listen()\n",
    "    conn, addr = s.accept()\n",
    "    with conn:\n",
    "        print('Connected by', addr)\n",
    "        while True:\n",
    "            data = conn.recv(1024)\n",
    "            print(data)\n",
    "            if not data:\n",
    "                break\n",
    "            conn.sendall(data)"
   ]
  },
  {
   "cell_type": "markdown",
   "id": "romance-windsor",
   "metadata": {},
   "source": [
    "You should see that each time you sent a message, it was printed here and send back to your netcat connection."
   ]
  },
  {
   "cell_type": "markdown",
   "id": "fresh-judges",
   "metadata": {},
   "source": [
    "## Exercise: Listening for Connections"
   ]
  },
  {
   "cell_type": "markdown",
   "id": "numerous-petersburg",
   "metadata": {},
   "source": [
    "1. Create a listening socket on port 7890 that listens for incoming connections, and then sends those connecitons back their IP address and host name"
   ]
  },
  {
   "cell_type": "code",
   "execution_count": null,
   "id": "corporate-belarus",
   "metadata": {},
   "outputs": [],
   "source": []
  },
  {
   "cell_type": "markdown",
   "id": "defensive-terry",
   "metadata": {},
   "source": [
    "2. Create a listening socket on port 8675 that listens for incoming connections, asks the connection for a phrase, and then sends back how many letters are in that phrase"
   ]
  },
  {
   "cell_type": "code",
   "execution_count": null,
   "id": "isolated-speaking",
   "metadata": {},
   "outputs": [],
   "source": []
  },
  {
   "cell_type": "markdown",
   "id": "expensive-survivor",
   "metadata": {},
   "source": [
    "3. Create a listening socket on port 3456 that listens for incoming connections, asks it to send a first number, asks for a second number, and then sends the sum of those numbers"
   ]
  },
  {
   "cell_type": "code",
   "execution_count": null,
   "id": "mediterranean-bloom",
   "metadata": {},
   "outputs": [],
   "source": []
  },
  {
   "cell_type": "markdown",
   "id": "driven-remedy",
   "metadata": {},
   "source": [
    "4. Create a listening socket on port 1248 that listens for incoming connections, and then echos the messages sent to it except for the message \"exit\". If it received the message \"exit\" it prompts for exit to be send one more time, in which case it closes, otherwise it goes back to echoing as normal."
   ]
  },
  {
   "cell_type": "code",
   "execution_count": null,
   "id": "indoor-banner",
   "metadata": {},
   "outputs": [],
   "source": []
  }
 ],
 "metadata": {
  "kernelspec": {
   "display_name": "Python 3",
   "language": "python",
   "name": "python3"
  },
  "language_info": {
   "codemirror_mode": {
    "name": "ipython",
    "version": 3
   },
   "file_extension": ".py",
   "mimetype": "text/x-python",
   "name": "python",
   "nbconvert_exporter": "python",
   "pygments_lexer": "ipython3",
   "version": "3.7.9"
  }
 },
 "nbformat": 4,
 "nbformat_minor": 5
}
